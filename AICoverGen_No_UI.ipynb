{
  "cells": [
    {
      "cell_type": "markdown",
      "metadata": {
        "id": "view-in-github",
        "colab_type": "text"
      },
      "source": [
        "<a href=\"https://colab.research.google.com/github/freyzamarshall02/AICoverGen-Mod/blob/main/AICoverGen_No_UI.ipynb\" target=\"_parent\"><img src=\"https://colab.research.google.com/assets/colab-badge.svg\" alt=\"Open In Colab\"/></a>"
      ]
    },
    {
      "cell_type": "markdown",
      "source": [
        "# AICoverGen Mod Without UI Colab Version\n"
      ],
      "metadata": {
        "id": "PNIn-NKDjYJ3"
      }
    },
    {
      "cell_type": "code",
      "execution_count": null,
      "metadata": {
        "id": "9pc1cXR_MSZ3",
        "cellView": "form"
      },
      "outputs": [],
      "source": [
        "#@title Clone repository (Cell 1)\n",
        "from IPython.display import clear_output, Javascript\n",
        "import codecs\n",
        "import threading\n",
        "\n",
        "#=======================Cloning Repo======================\n",
        "cloneing=codecs.decode('uggcf://tvguho.pbz/serlmnznefunyy02/NVPbireTra-Zbq','rot_13')\n",
        "#=========================================================\n",
        "!git clone $cloneing Hina_RVC\n",
        "!rm -rf sample_data\n",
        "%cd Hina_RVC\n",
        "clear_output()\n",
        "# Tags\n",
        "print('\\033[32m\\033[1m\\033[3mAICoverGen Modded By Ryusui Kagaku Notebook By FreyzaMarshall\\033[0m')\n",
        "print(\"Done Cloning Repository\")"
      ]
    },
    {
      "cell_type": "code",
      "execution_count": null,
      "metadata": {
        "id": "LgBrHbFtMVaa",
        "cellView": "form"
      },
      "outputs": [],
      "source": [
        "#@title Install requirements (Cell 2)\n",
        "import codecs\n",
        "models=codecs.decode('fep/qbjaybnq_zbqryf.cl','rot_13')\n",
        "\n",
        "print('\\033[36m\\033[1m\\033[3mInstalling pre-dependencies...\\033[0m')\n",
        "!sudo apt update\n",
        "!sudo apt install python3.10\n",
        "!sudo update-alternatives --install /usr/bin/python3 python3 /usr/bin/python3.10 1\n",
        "!sudo update-alternatives --set python3 /usr/bin/python3.10\n",
        "!curl -sS https://bootstrap.pypa.io/get-pip.py | python3\n",
        "import sys\n",
        "sys.path.append('/usr/local/lib/python3.10/dist-packages')\n",
        "!sudo apt -y install ffmpeg &> /dev/null\n",
        "!sudo apt -y install sox &> /dev/null\n",
        "!curl -LO https://github.com/cloudflare/cloudflared/releases/latest/download/cloudflared-linux-amd64.deb\n",
        "!dpkg -i cloudflared-linux-amd64.deb\n",
        "!pip install uv  &> /dev/null\n",
        "!uv venv .venv --python 3.10.12  &> /dev/null\n",
        "clear_output()\n",
        "print('\\033[36m\\033[1m\\033[3mInstalling Requirements.txt...\\033[0m')\n",
        "!uv pip install -r requirements.txt --upgrade &> /dev/null\n",
        "!pip install pyngrok &> /dev/null\n",
        "clear_output()\n",
        "print('\\033[36m\\033[1m\\033[3mDownloading UVR Models...\\033[0m')\n",
        "!source .venv/bin/activate\n",
        "!python $models\n",
        "clear_output()\n",
        "print('\\033[36m\\033[1m\\033[3mFinsihed running this cell, proceed to the next cell...\\033[0m')"
      ]
    },
    {
      "cell_type": "code",
      "execution_count": null,
      "metadata": {
        "id": "9aMm_NgjUH4T",
        "cellView": "form"
      },
      "outputs": [],
      "source": [
        "#@title Model Download Function\n",
        "\n",
        "import os\n",
        "import zipfile\n",
        "import shutil\n",
        "import urllib.request\n",
        "\n",
        "BASE_DIR = os.getcwd()\n",
        "rvc_models_dir = os.path.join(BASE_DIR, 'rvc_models')\n",
        "\n",
        "def extract_zip(extraction_folder, zip_name):\n",
        "    os.makedirs(extraction_folder)\n",
        "    with zipfile.ZipFile(zip_name, 'r') as zip_ref:\n",
        "        zip_ref.extractall(extraction_folder)\n",
        "    os.remove(zip_name)\n",
        "\n",
        "    index_filepath, model_filepath = None, None\n",
        "    for root, dirs, files in os.walk(extraction_folder):\n",
        "        for name in files:\n",
        "            if name.endswith('.index') and os.stat(os.path.join(root, name)).st_size > 1024 * 100:\n",
        "                index_filepath = os.path.join(root, name)\n",
        "\n",
        "            if name.endswith('.pth') and os.stat(os.path.join(root, name)).st_size > 1024 * 1024 * 40:\n",
        "                model_filepath = os.path.join(root, name)\n",
        "\n",
        "    if not model_filepath:\n",
        "        raise Exception(f'No .pth model file was found in the extracted zip. Please check {extraction_folder}.')\n",
        "\n",
        "    # move model and index file to extraction folder\n",
        "    os.rename(model_filepath, os.path.join(extraction_folder, os.path.basename(model_filepath)))\n",
        "    if index_filepath:\n",
        "        os.rename(index_filepath, os.path.join(extraction_folder, os.path.basename(index_filepath)))\n",
        "\n",
        "    # remove any unnecessary nested folders\n",
        "    for filepath in os.listdir(extraction_folder):\n",
        "        if os.path.isdir(os.path.join(extraction_folder, filepath)):\n",
        "            shutil.rmtree(os.path.join(extraction_folder, filepath))\n",
        "\n",
        "def download_online_model(url, dir_name):\n",
        "    try:\n",
        "        print(f'[~] Downloading voice model with name {dir_name}...')\n",
        "        zip_name = url.split('/')[-1]\n",
        "        extraction_folder = os.path.join(rvc_models_dir, dir_name)\n",
        "        if os.path.exists(extraction_folder):\n",
        "            raise Exception(f'Voice model directory {dir_name} already exists! Choose a different name for your voice model.')\n",
        "\n",
        "        if 'pixeldrain.com' in url:\n",
        "            url = f'https://pixeldrain.com/api/file/{zip_name}'\n",
        "\n",
        "        urllib.request.urlretrieve(url, zip_name)\n",
        "\n",
        "        print('[~] Extracting zip...')\n",
        "        extract_zip(extraction_folder, zip_name)\n",
        "        print(f'[+] {dir_name} Model successfully downloaded!')\n",
        "\n",
        "    except Exception as e:\n",
        "        raise Exception(str(e))\n",
        "\n",
        "url = \"https://pixeldrain.com/u/3tJmABXA\" # @param {type:\"string\"}\n",
        "dir_name = \"Gura\" # @param {type:\"string\"}\n",
        "\n",
        "download_online_model(url, dir_name)"
      ]
    },
    {
      "cell_type": "code",
      "execution_count": null,
      "metadata": {
        "id": "B3BqnUoePVGd",
        "cellView": "form"
      },
      "outputs": [],
      "source": [
        "# @title Generate | Output generated inside \"AICoverGen\\song_output\\random_number\"\n",
        "# @markdown Main Option | You also can input audio path inside \"SONG_INPUT\"\n",
        "SONG_INPUT = \"\" # @param {type:\"string\"}\n",
        "RVC_DIRNAME = \"\" # @param {type:\"string\"}\n",
        "PITCH_CHANGE = 0 # @param {type:\"integer\"}\n",
        "PITCH_CHANGE_ALL = 0 # @param {type:\"integer\"}\n",
        "# @markdown Voice Conversion Options\n",
        "INDEX_RATE = 0.2 # @param {type:\"number\"}\n",
        "FILTER_RADIUS = 3 # @param {type:\"integer\"}\n",
        "PITCH_DETECTION_ALGO = \"rmvpe\" # @param [\"rmvpe\", \"mangio-crepe\"]\n",
        "CREPE_HOP_LENGTH = 128 # @param {type:\"integer\"}\n",
        "PROTECT = 0.33 # @param {type:\"number\"}\n",
        "REMIX_MIX_RATE = 0.25  # @param {type:\"number\"}\n",
        "# @markdown Audio Mixing Options\n",
        "MAIN_VOL = 0 # @param {type:\"integer\"}\n",
        "BACKUP_VOL = 0 # @param {type:\"integer\"}\n",
        "INST_VOL = 0 # @param {type:\"integer\"}\n",
        "# @markdown Reverb Control\n",
        "REVERB_SIZE = 0.15 # @param {type:\"number\"}\n",
        "REVERB_WETNESS = 0.2 # @param {type:\"number\"}\n",
        "REVERB_DRYNESS = 0.8 # @param {type:\"number\"}\n",
        "REVERB_DAMPING = 0.7 # @param {type:\"number\"}\n",
        "# @markdown Output Format\n",
        "OUTPUT_FORMAT = \"mp3\" # @param [\"mp3\", \"wav\"]\n",
        "\n",
        "import subprocess\n",
        "\n",
        "command = [\n",
        "    \"python\",\n",
        "    \"src/main.py\",\n",
        "    \"-i\", SONG_INPUT,\n",
        "    \"-dir\", RVC_DIRNAME,\n",
        "    \"-p\", str(PITCH_CHANGE),\n",
        "    \"-k\",\n",
        "    \"-ir\", str(INDEX_RATE),\n",
        "    \"-fr\", str(FILTER_RADIUS),\n",
        "    \"-rms\", str(REMIX_MIX_RATE),\n",
        "    \"-palgo\", PITCH_DETECTION_ALGO,\n",
        "    \"-hop\", str(CREPE_HOP_LENGTH),\n",
        "    \"-pro\", str(PROTECT),\n",
        "    \"-mv\", str(MAIN_VOL),\n",
        "    \"-bv\", str(BACKUP_VOL),\n",
        "    \"-iv\", str(INST_VOL),\n",
        "    \"-pall\", str(PITCH_CHANGE_ALL),\n",
        "    \"-rsize\", str(REVERB_SIZE),\n",
        "    \"-rwet\", str(REVERB_WETNESS),\n",
        "    \"-rdry\", str(REVERB_DRYNESS),\n",
        "    \"-rdamp\", str(REVERB_DAMPING),\n",
        "    \"-oformat\", OUTPUT_FORMAT\n",
        "]\n",
        "\n",
        "# Open a subprocess and capture its output\n",
        "process = subprocess.Popen(command, stdout=subprocess.PIPE, stderr=subprocess.STDOUT, universal_newlines=True)\n",
        "\n",
        "# Print the output in real-time\n",
        "for line in process.stdout:\n",
        "    print(line, end='')\n",
        "\n",
        "# Wait for the process to finish\n",
        "process.wait()"
      ]
    },
    {
      "cell_type": "markdown",
      "source": [
        "Example of generated audio path\n",
        "\n",
        "![path.png](data:image/png;base64,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)"
      ],
      "metadata": {
        "id": "7Hs7P0QYHHZJ"
      }
    }
  ],
  "metadata": {
    "accelerator": "GPU",
    "colab": {
      "provenance": [],
      "include_colab_link": true
    },
    "kernelspec": {
      "display_name": "Python 3",
      "name": "python3"
    },
    "language_info": {
      "name": "python"
    }
  },
  "nbformat": 4,
  "nbformat_minor": 0
}