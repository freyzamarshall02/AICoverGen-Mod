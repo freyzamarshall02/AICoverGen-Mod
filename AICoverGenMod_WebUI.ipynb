{
  "cells": [
    {
      "cell_type": "markdown",
      "metadata": {
        "id": "view-in-github",
        "colab_type": "text"
      },
      "source": [
        "<a href=\"https://colab.research.google.com/github/freyzamarshall02/AICoverGen-Mod/blob/main/AICoverGenMod_WebUI.ipynb\" target=\"_parent\"><img src=\"https://colab.research.google.com/assets/colab-badge.svg\" alt=\"Open In Colab\"/></a>"
      ]
    },
    {
      "cell_type": "markdown",
      "metadata": {
        "id": "H2pQtJura7xx"
      },
      "source": [
        "# AICoverGen Mod WebUI Colab Version\n"
      ]
    },
    {
      "cell_type": "code",
      "execution_count": null,
      "metadata": {
        "cellView": "form",
        "id": "d8juG64ZbPJu"
      },
      "outputs": [],
      "source": [
        "#@title Clone repository (Cell 1)\n",
        "from IPython.display import clear_output, Javascript\n",
        "import codecs\n",
        "import threading\n",
        "\n",
        "#=======================Cloning Repo======================\n",
        "cloneing=codecs.decode('uggcf://tvguho.pbz/serlmnznefunyy02/NVPbireTra-Zbq','rot_13')\n",
        "#=========================================================\n",
        "!git clone $cloneing Hina_RVC\n",
        "!rm -rf sample_data\n",
        "%cd Hina_RVC\n",
        "clear_output()\n",
        "# Tags\n",
        "print('\\033[32m\\033[1m\\033[3mAICoverGen Modded By Ryusui Kagaku Notebook By FreyzaMarshall\\033[0m')\n",
        "print(\"Done Cloning Repository\")"
      ]
    },
    {
      "cell_type": "code",
      "execution_count": null,
      "metadata": {
        "id": "RVoh2iu_bRMC",
        "cellView": "form"
      },
      "outputs": [],
      "source": [
        "#@title Install requirements (Cell 2)\n",
        "import codecs\n",
        "models=codecs.decode('fep/qbjaybnq_zbqryf.cl','rot_13')\n",
        "\n",
        "print('\\033[36m\\033[1m\\033[3mInstalling pre-dependencies...\\033[0m')\n",
        "!sudo apt -y update &> /dev/null\n",
        "!sudo apt -y install ffmpeg &> /dev/null\n",
        "!sudo apt -y install sox &> /dev/null\n",
        "!pip install pip==24.0.0 &> /dev/null\n",
        "!pip install gdown &> /dev/null\n",
        "!curl -LO https://github.com/cloudflare/cloudflared/releases/latest/download/cloudflared-linux-amd64.deb\n",
        "!dpkg -i cloudflared-linux-amd64.deb\n",
        "!pip install uv\n",
        "!uv venv .venv\n",
        "clear_output()\n",
        "print('\\033[36m\\033[1m\\033[3mInstalling Requirements.txt...\\033[0m')\n",
        "!uv pip install -r requirements.txt --upgrade &> /dev/null\n",
        "!pip install pyngrok &> /dev/null\n",
        "clear_output()\n",
        "print('\\033[36m\\033[1m\\033[3mDownloading UVR Models...\\033[0m')\n",
        "!python $models\n",
        "clear_output()\n",
        "print('\\033[36m\\033[1m\\033[3mFinsihed running this cell, proceed to the next cell...\\033[0m')"
      ]
    },
    {
      "cell_type": "code",
      "execution_count": null,
      "metadata": {
        "cellView": "form",
        "id": "hXSuBGBEYWTT",
        "collapsed": true
      },
      "outputs": [],
      "source": [
        "#@title Start (Cell 3) Ignore some errors\n",
        "#@markdown---\n",
        "import time\n",
        "import codecs\n",
        "runpice=codecs.decode('fep/jrohv.cl','rot_13')\n",
        "Tunnel = \"Gradio\" #@param ['Cloudflared','Gradio']\n",
        "if Tunnel == \"Gradio\":\n",
        "  !python $runpice --share\n",
        "else:\n",
        "  !rm -rf nohup.out\n",
        "  !nohup cloudflared tunnel --url localhost:7860 &\n",
        "  clear_output()\n",
        "  time.sleep(5)\n",
        "  print(\"\\033[1m\\033[3m\\033[93mPublic URL\\033[0m\")\n",
        "  !grep -oE \"https://[a-zA-Z0-9.-]+\\.trycloudflare\\.com\" nohup.out\n",
        "  print(\"\\033[1m\\033[91mWait until Local URL Started\\033[0m\")\n",
        "  !python $runpice"
      ]
    }
  ],
  "metadata": {
    "accelerator": "GPU",
    "colab": {
      "gpuType": "T4",
      "provenance": [],
      "authorship_tag": "ABX9TyOCsVaolT0vWnE6SvoMNX4N",
      "include_colab_link": true
    },
    "kernelspec": {
      "display_name": "Python 3",
      "name": "python3"
    },
    "language_info": {
      "name": "python"
    }
  },
  "nbformat": 4,
  "nbformat_minor": 0
}